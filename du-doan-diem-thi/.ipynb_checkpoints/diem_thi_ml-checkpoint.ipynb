{
 "cells": [
  {
   "cell_type": "markdown",
   "id": "f6a01ad4",
   "metadata": {},
   "source": [
    "# Xây dựng mô hình Machine Learning dự đoán điểm thi của sinh viên dựa trên điểm thành phần\n",
    "\n",
    "Dataset là bảng điểm của 4 lớp: lop71, lop72, lop31, lop32"
   ]
  },
  {
   "cell_type": "code",
   "execution_count": 1,
   "id": "a6bbf04e",
   "metadata": {},
   "outputs": [],
   "source": [
    "import pandas as pd\n",
    "import numpy as np\n",
    "import matplotlib.pyplot as plt\n",
    "import seaborn as sns\n",
    "\n",
    "from sklearn.linear_model import LinearRegression, Ridge\n",
    "\n",
    "from sklearn.metrics import mean_absolute_error\n",
    "from sklearn.model_selection import train_test_split\n",
    "from sklearn.preprocessing import MinMaxScaler"
   ]
  },
  {
   "cell_type": "markdown",
   "id": "a2ef407d",
   "metadata": {},
   "source": [
    "## Loading data"
   ]
  },
  {
   "cell_type": "code",
   "execution_count": 2,
   "id": "f72ea9fc",
   "metadata": {},
   "outputs": [
    {
     "data": {
      "text/plain": [
       "(ho_ten     object\n",
       " 10%       float64\n",
       " 20%       float64\n",
       " 20%.1     float64\n",
       " thi       float64\n",
       " dtype: object,\n",
       "    ho_ten    10%   20%  20%.1   thi\n",
       " 0  31_011  8.375  7.25    8.5   9.0\n",
       " 1  31_012  8.250  7.25    8.5   9.0\n",
       " 2  31_013  8.500  7.50    8.5  10.0\n",
       " 3  31_014  4.000  7.25    8.5   9.0\n",
       " 4  31_015  8.750  7.50    8.5   9.5)"
      ]
     },
     "execution_count": 2,
     "metadata": {},
     "output_type": "execute_result"
    }
   ],
   "source": [
    "df_31 = pd.read_csv('./lop31.csv')\n",
    "df_31.dtypes, df_31.head()"
   ]
  },
  {
   "cell_type": "markdown",
   "id": "c9f018ee",
   "metadata": {},
   "source": [
    "### Phát hiện bảng điểm của lớp 32 có dữ liệu chưa ở dạng số, cần xử lý (VD: 7,5 -> 7.5)"
   ]
  },
  {
   "cell_type": "code",
   "execution_count": 3,
   "id": "85689321",
   "metadata": {
    "scrolled": true
   },
   "outputs": [
    {
     "data": {
      "text/plain": [
       "(ho_ten         object\n",
       " 10%            object\n",
       " 20%            object\n",
       " BT bo sung    float64\n",
       " 20%.1         float64\n",
       " thi           float64\n",
       " dtype: object,\n",
       "    ho_ten   10%   20%  BT bo sung  20%.1   thi\n",
       " 0  32_011  7.25   6.5        6.00   6.50  6.75\n",
       " 1  32_012     7   7.5        5.00   7.50  7.00\n",
       " 2  32_013     7  7.25        5.25   7.25  7.00\n",
       " 3  32_014   6.5     7        5.25   7.00  6.50\n",
       " 4  32_015   7.5     7        5.00   7.00  7.25)"
      ]
     },
     "execution_count": 3,
     "metadata": {},
     "output_type": "execute_result"
    }
   ],
   "source": [
    "df_32 = pd.read_csv('./lop32.csv')\n",
    "df_32.dtypes, df_32.head()"
   ]
  },
  {
   "cell_type": "code",
   "execution_count": 4,
   "id": "4b3cdb87",
   "metadata": {},
   "outputs": [],
   "source": [
    "df_32 = df_32.drop(\"BT bo sung\", axis=1)"
   ]
  },
  {
   "cell_type": "code",
   "execution_count": 5,
   "id": "9688fc61",
   "metadata": {
    "scrolled": true
   },
   "outputs": [
    {
     "data": {
      "text/plain": [
       "(array(['7.25', '7', '6.5', '7.5', '8', '9', '9.5', '9.25', '9.375',\n",
       "        '9.125', '7,5', '6.75', '6', '7.75', '0', '8.125', '8.75', '8.5',\n",
       "        '8.25', '7.625', '5.5', '4', '3.5'], dtype=object),\n",
       " array(['6.5', '7.5', '7.25', '7', '6.75', '6.25', '6', '7.375', '7.75',\n",
       "        '8.25', '6,5', '6,75', '8', '6.8', '6.125', '3.123', '5.5', '3.75',\n",
       "        '3.5', '7.875', '6.875', '8.75', '3'], dtype=object))"
      ]
     },
     "execution_count": 5,
     "metadata": {},
     "output_type": "execute_result"
    }
   ],
   "source": [
    "df_32[\"10%\"].unique(), df_32[\"20%\"].unique()"
   ]
  },
  {
   "cell_type": "code",
   "execution_count": 6,
   "id": "58a85a72",
   "metadata": {},
   "outputs": [],
   "source": [
    "df_32['10%'] = df_32['10%'].str.replace(',','.')\n",
    "df_32[\"10%\"] = pd.to_numeric(df_32[\"10%\"], errors='coerce')\n",
    "\n",
    "df_32['20%'] = df_32['20%'].str.replace(',','.')\n",
    "df_32[\"20%\"] = pd.to_numeric(df_32[\"20%\"], errors='coerce')"
   ]
  },
  {
   "cell_type": "code",
   "execution_count": 7,
   "id": "3421a2f4",
   "metadata": {},
   "outputs": [
    {
     "data": {
      "text/plain": [
       "(ho_ten     object\n",
       " 10%       float64\n",
       " 20%       float64\n",
       " 20%.1     float64\n",
       " thi       float64\n",
       " dtype: object,\n",
       "    ho_ten   10%  20%  20%.1   thi\n",
       " 0  71_011  6.50  6.5    6.0  6.50\n",
       " 1  71_012  5.50  5.5    6.0  5.00\n",
       " 2  71_013  6.50  7.0    7.0  6.75\n",
       " 3  71_014  7.25  5.5    7.0  6.00\n",
       " 4  71_021  7.50  5.0    6.0  6.00)"
      ]
     },
     "execution_count": 7,
     "metadata": {},
     "output_type": "execute_result"
    }
   ],
   "source": [
    "df_71 = pd.read_csv('./lop71.csv')\n",
    "df_71.dtypes, df_71.head()"
   ]
  },
  {
   "cell_type": "code",
   "execution_count": 8,
   "id": "8532e752",
   "metadata": {},
   "outputs": [
    {
     "data": {
      "text/plain": [
       "(ho_ten     object\n",
       " 10%       float64\n",
       " 20%       float64\n",
       " 20%.1     float64\n",
       " thi       float64\n",
       " dtype: object,\n",
       "    ho_ten   10%   20%  20%.1   thi\n",
       " 0  72_011  6.00  6.50   7.00  6.75\n",
       " 1  72_012  6.50  7.25   7.75  7.50\n",
       " 2  72_013  5.75  6.75   7.25  7.00\n",
       " 3  72_014  6.75  7.00   7.50  7.25\n",
       " 4  72_015  6.00  6.50   7.00  6.75)"
      ]
     },
     "execution_count": 8,
     "metadata": {},
     "output_type": "execute_result"
    }
   ],
   "source": [
    "df_72 = pd.read_csv('./lop72.csv')\n",
    "df_72.dtypes, df_72.head()"
   ]
  },
  {
   "cell_type": "markdown",
   "id": "eb9bdc8d",
   "metadata": {},
   "source": [
    "### Gộp dữ liệu của 4 lớp vào df"
   ]
  },
  {
   "cell_type": "code",
   "execution_count": 9,
   "id": "4a8501fb",
   "metadata": {},
   "outputs": [
    {
     "data": {
      "text/plain": [
       "ho_ten     object\n",
       "10%       float64\n",
       "20%       float64\n",
       "20%.1     float64\n",
       "thi       float64\n",
       "dtype: object"
      ]
     },
     "execution_count": 9,
     "metadata": {},
     "output_type": "execute_result"
    }
   ],
   "source": [
    "df = pd.concat([df_31, df_32, df_71, df_72], axis=0)\n",
    "df.dtypes"
   ]
  },
  {
   "cell_type": "markdown",
   "id": "a86c41f2",
   "metadata": {},
   "source": [
    "### Xử lí dữ liệu theo hệ số điểm: 10% 20% 20% 50%"
   ]
  },
  {
   "cell_type": "code",
   "execution_count": 10,
   "id": "fa318483",
   "metadata": {},
   "outputs": [
    {
     "data": {
      "text/html": [
       "<div>\n",
       "<style scoped>\n",
       "    .dataframe tbody tr th:only-of-type {\n",
       "        vertical-align: middle;\n",
       "    }\n",
       "\n",
       "    .dataframe tbody tr th {\n",
       "        vertical-align: top;\n",
       "    }\n",
       "\n",
       "    .dataframe thead th {\n",
       "        text-align: right;\n",
       "    }\n",
       "</style>\n",
       "<table border=\"1\" class=\"dataframe\">\n",
       "  <thead>\n",
       "    <tr style=\"text-align: right;\">\n",
       "      <th></th>\n",
       "      <th>ho_ten</th>\n",
       "      <th>10%</th>\n",
       "      <th>20%</th>\n",
       "      <th>20%.1</th>\n",
       "      <th>thi</th>\n",
       "    </tr>\n",
       "  </thead>\n",
       "  <tbody>\n",
       "    <tr>\n",
       "      <th>0</th>\n",
       "      <td>31_011</td>\n",
       "      <td>8.375</td>\n",
       "      <td>7.25</td>\n",
       "      <td>8.5</td>\n",
       "      <td>9.0</td>\n",
       "    </tr>\n",
       "    <tr>\n",
       "      <th>1</th>\n",
       "      <td>31_012</td>\n",
       "      <td>8.250</td>\n",
       "      <td>7.25</td>\n",
       "      <td>8.5</td>\n",
       "      <td>9.0</td>\n",
       "    </tr>\n",
       "    <tr>\n",
       "      <th>2</th>\n",
       "      <td>31_013</td>\n",
       "      <td>8.500</td>\n",
       "      <td>7.50</td>\n",
       "      <td>8.5</td>\n",
       "      <td>10.0</td>\n",
       "    </tr>\n",
       "    <tr>\n",
       "      <th>3</th>\n",
       "      <td>31_014</td>\n",
       "      <td>4.000</td>\n",
       "      <td>7.25</td>\n",
       "      <td>8.5</td>\n",
       "      <td>9.0</td>\n",
       "    </tr>\n",
       "    <tr>\n",
       "      <th>4</th>\n",
       "      <td>31_015</td>\n",
       "      <td>8.750</td>\n",
       "      <td>7.50</td>\n",
       "      <td>8.5</td>\n",
       "      <td>9.5</td>\n",
       "    </tr>\n",
       "  </tbody>\n",
       "</table>\n",
       "</div>"
      ],
      "text/plain": [
       "   ho_ten    10%   20%  20%.1   thi\n",
       "0  31_011  8.375  7.25    8.5   9.0\n",
       "1  31_012  8.250  7.25    8.5   9.0\n",
       "2  31_013  8.500  7.50    8.5  10.0\n",
       "3  31_014  4.000  7.25    8.5   9.0\n",
       "4  31_015  8.750  7.50    8.5   9.5"
      ]
     },
     "execution_count": 10,
     "metadata": {},
     "output_type": "execute_result"
    }
   ],
   "source": [
    "df.head()"
   ]
  },
  {
   "cell_type": "code",
   "execution_count": 11,
   "id": "c3cecc52",
   "metadata": {},
   "outputs": [],
   "source": [
    "df[\"10%\"] = df[\"10%\"] * 0.1\n",
    "df[\"20%\"] = df[\"20%\"] * 0.2\n",
    "df[\"20%.1\"] = df[\"20%.1\"] * 0.2\n",
    "df[\"thi\"] = df[\"thi\"] * 0.5"
   ]
  },
  {
   "cell_type": "code",
   "execution_count": 12,
   "id": "013863e1",
   "metadata": {
    "scrolled": true
   },
   "outputs": [
    {
     "data": {
      "text/html": [
       "<div>\n",
       "<style scoped>\n",
       "    .dataframe tbody tr th:only-of-type {\n",
       "        vertical-align: middle;\n",
       "    }\n",
       "\n",
       "    .dataframe tbody tr th {\n",
       "        vertical-align: top;\n",
       "    }\n",
       "\n",
       "    .dataframe thead th {\n",
       "        text-align: right;\n",
       "    }\n",
       "</style>\n",
       "<table border=\"1\" class=\"dataframe\">\n",
       "  <thead>\n",
       "    <tr style=\"text-align: right;\">\n",
       "      <th></th>\n",
       "      <th>ho_ten</th>\n",
       "      <th>10%</th>\n",
       "      <th>20%</th>\n",
       "      <th>20%.1</th>\n",
       "      <th>thi</th>\n",
       "    </tr>\n",
       "  </thead>\n",
       "  <tbody>\n",
       "    <tr>\n",
       "      <th>0</th>\n",
       "      <td>31_011</td>\n",
       "      <td>0.8375</td>\n",
       "      <td>1.45</td>\n",
       "      <td>1.7</td>\n",
       "      <td>4.50</td>\n",
       "    </tr>\n",
       "    <tr>\n",
       "      <th>1</th>\n",
       "      <td>31_012</td>\n",
       "      <td>0.8250</td>\n",
       "      <td>1.45</td>\n",
       "      <td>1.7</td>\n",
       "      <td>4.50</td>\n",
       "    </tr>\n",
       "    <tr>\n",
       "      <th>2</th>\n",
       "      <td>31_013</td>\n",
       "      <td>0.8500</td>\n",
       "      <td>1.50</td>\n",
       "      <td>1.7</td>\n",
       "      <td>5.00</td>\n",
       "    </tr>\n",
       "    <tr>\n",
       "      <th>3</th>\n",
       "      <td>31_014</td>\n",
       "      <td>0.4000</td>\n",
       "      <td>1.45</td>\n",
       "      <td>1.7</td>\n",
       "      <td>4.50</td>\n",
       "    </tr>\n",
       "    <tr>\n",
       "      <th>4</th>\n",
       "      <td>31_015</td>\n",
       "      <td>0.8750</td>\n",
       "      <td>1.50</td>\n",
       "      <td>1.7</td>\n",
       "      <td>4.75</td>\n",
       "    </tr>\n",
       "  </tbody>\n",
       "</table>\n",
       "</div>"
      ],
      "text/plain": [
       "   ho_ten     10%   20%  20%.1   thi\n",
       "0  31_011  0.8375  1.45    1.7  4.50\n",
       "1  31_012  0.8250  1.45    1.7  4.50\n",
       "2  31_013  0.8500  1.50    1.7  5.00\n",
       "3  31_014  0.4000  1.45    1.7  4.50\n",
       "4  31_015  0.8750  1.50    1.7  4.75"
      ]
     },
     "execution_count": 12,
     "metadata": {},
     "output_type": "execute_result"
    }
   ],
   "source": [
    "df.head()"
   ]
  },
  {
   "cell_type": "code",
   "execution_count": 13,
   "id": "7d894a6c",
   "metadata": {},
   "outputs": [],
   "source": [
    "df = df.drop(\"ho_ten\", axis=1)"
   ]
  },
  {
   "cell_type": "markdown",
   "id": "4503f91f",
   "metadata": {},
   "source": [
    "## Checking missing values"
   ]
  },
  {
   "cell_type": "code",
   "execution_count": 14,
   "id": "3c5210e5",
   "metadata": {},
   "outputs": [
    {
     "name": "stdout",
     "output_type": "stream",
     "text": [
      "Nulls\n",
      "=====\n",
      "10%      2\n",
      "20%      2\n",
      "20%.1    2\n",
      "thi      4\n",
      "dtype: int64\n"
     ]
    }
   ],
   "source": [
    "#---check for null values---\n",
    "print(\"Nulls\")\n",
    "print(\"=====\")\n",
    "print(df.isnull().sum())"
   ]
  },
  {
   "cell_type": "code",
   "execution_count": 15,
   "id": "2ec37965",
   "metadata": {},
   "outputs": [],
   "source": [
    "# df.fillna(df.mean(), inplace=True)\n",
    "df.dropna(axis=0, inplace=True)"
   ]
  },
  {
   "cell_type": "code",
   "execution_count": 16,
   "id": "d95c7df3",
   "metadata": {
    "scrolled": true
   },
   "outputs": [
    {
     "data": {
      "text/plain": [
       "10%      0\n",
       "20%      0\n",
       "20%.1    0\n",
       "thi      0\n",
       "dtype: int64"
      ]
     },
     "execution_count": 16,
     "metadata": {},
     "output_type": "execute_result"
    }
   ],
   "source": [
    "df.isnull().sum()"
   ]
  },
  {
   "cell_type": "markdown",
   "id": "b11b5954",
   "metadata": {},
   "source": [
    "## Normalization -  MinMaxScaler"
   ]
  },
  {
   "cell_type": "code",
   "execution_count": 17,
   "id": "48cb2e13",
   "metadata": {},
   "outputs": [
    {
     "data": {
      "text/html": [
       "<div>\n",
       "<style scoped>\n",
       "    .dataframe tbody tr th:only-of-type {\n",
       "        vertical-align: middle;\n",
       "    }\n",
       "\n",
       "    .dataframe tbody tr th {\n",
       "        vertical-align: top;\n",
       "    }\n",
       "\n",
       "    .dataframe thead th {\n",
       "        text-align: right;\n",
       "    }\n",
       "</style>\n",
       "<table border=\"1\" class=\"dataframe\">\n",
       "  <thead>\n",
       "    <tr style=\"text-align: right;\">\n",
       "      <th></th>\n",
       "      <th>10%</th>\n",
       "      <th>20%</th>\n",
       "      <th>20%.1</th>\n",
       "      <th>thi</th>\n",
       "    </tr>\n",
       "  </thead>\n",
       "  <tbody>\n",
       "    <tr>\n",
       "      <th>0</th>\n",
       "      <td>0.8375</td>\n",
       "      <td>0.828571</td>\n",
       "      <td>0.894737</td>\n",
       "      <td>0.90</td>\n",
       "    </tr>\n",
       "    <tr>\n",
       "      <th>1</th>\n",
       "      <td>0.8250</td>\n",
       "      <td>0.828571</td>\n",
       "      <td>0.894737</td>\n",
       "      <td>0.90</td>\n",
       "    </tr>\n",
       "    <tr>\n",
       "      <th>2</th>\n",
       "      <td>0.8500</td>\n",
       "      <td>0.857143</td>\n",
       "      <td>0.894737</td>\n",
       "      <td>1.00</td>\n",
       "    </tr>\n",
       "    <tr>\n",
       "      <th>3</th>\n",
       "      <td>0.4000</td>\n",
       "      <td>0.828571</td>\n",
       "      <td>0.894737</td>\n",
       "      <td>0.90</td>\n",
       "    </tr>\n",
       "    <tr>\n",
       "      <th>4</th>\n",
       "      <td>0.8750</td>\n",
       "      <td>0.857143</td>\n",
       "      <td>0.894737</td>\n",
       "      <td>0.95</td>\n",
       "    </tr>\n",
       "    <tr>\n",
       "      <th>...</th>\n",
       "      <td>...</td>\n",
       "      <td>...</td>\n",
       "      <td>...</td>\n",
       "      <td>...</td>\n",
       "    </tr>\n",
       "    <tr>\n",
       "      <th>288</th>\n",
       "      <td>0.7375</td>\n",
       "      <td>0.742857</td>\n",
       "      <td>0.789474</td>\n",
       "      <td>0.70</td>\n",
       "    </tr>\n",
       "    <tr>\n",
       "      <th>289</th>\n",
       "      <td>0.7250</td>\n",
       "      <td>0.771429</td>\n",
       "      <td>0.736842</td>\n",
       "      <td>0.70</td>\n",
       "    </tr>\n",
       "    <tr>\n",
       "      <th>290</th>\n",
       "      <td>0.7125</td>\n",
       "      <td>0.771429</td>\n",
       "      <td>0.710526</td>\n",
       "      <td>0.70</td>\n",
       "    </tr>\n",
       "    <tr>\n",
       "      <th>291</th>\n",
       "      <td>0.7750</td>\n",
       "      <td>0.728571</td>\n",
       "      <td>0.789474</td>\n",
       "      <td>0.70</td>\n",
       "    </tr>\n",
       "    <tr>\n",
       "      <th>292</th>\n",
       "      <td>0.7875</td>\n",
       "      <td>0.700000</td>\n",
       "      <td>0.710526</td>\n",
       "      <td>0.70</td>\n",
       "    </tr>\n",
       "  </tbody>\n",
       "</table>\n",
       "<p>293 rows × 4 columns</p>\n",
       "</div>"
      ],
      "text/plain": [
       "        10%       20%     20%.1   thi\n",
       "0    0.8375  0.828571  0.894737  0.90\n",
       "1    0.8250  0.828571  0.894737  0.90\n",
       "2    0.8500  0.857143  0.894737  1.00\n",
       "3    0.4000  0.828571  0.894737  0.90\n",
       "4    0.8750  0.857143  0.894737  0.95\n",
       "..      ...       ...       ...   ...\n",
       "288  0.7375  0.742857  0.789474  0.70\n",
       "289  0.7250  0.771429  0.736842  0.70\n",
       "290  0.7125  0.771429  0.710526  0.70\n",
       "291  0.7750  0.728571  0.789474  0.70\n",
       "292  0.7875  0.700000  0.710526  0.70\n",
       "\n",
       "[293 rows x 4 columns]"
      ]
     },
     "execution_count": 17,
     "metadata": {},
     "output_type": "execute_result"
    }
   ],
   "source": [
    "scaler = MinMaxScaler()\n",
    "scaler.fit(df)\n",
    "scaled = scaler.transform(df)\n",
    "df_scaled = pd.DataFrame(scaled, columns=['10%', '20%', '20%.1', 'thi'])\n",
    "df_scaled"
   ]
  },
  {
   "cell_type": "code",
   "execution_count": 18,
   "id": "bfe2f9a4",
   "metadata": {},
   "outputs": [],
   "source": [
    "# scaler.inverse_transform(scaled)"
   ]
  },
  {
   "cell_type": "markdown",
   "id": "e640cda9",
   "metadata": {},
   "source": [
    "## Xem độ tương quan giữa các features"
   ]
  },
  {
   "cell_type": "code",
   "execution_count": 19,
   "id": "a0b46f80",
   "metadata": {
    "scrolled": true
   },
   "outputs": [
    {
     "data": {
      "text/html": [
       "<div>\n",
       "<style scoped>\n",
       "    .dataframe tbody tr th:only-of-type {\n",
       "        vertical-align: middle;\n",
       "    }\n",
       "\n",
       "    .dataframe tbody tr th {\n",
       "        vertical-align: top;\n",
       "    }\n",
       "\n",
       "    .dataframe thead th {\n",
       "        text-align: right;\n",
       "    }\n",
       "</style>\n",
       "<table border=\"1\" class=\"dataframe\">\n",
       "  <thead>\n",
       "    <tr style=\"text-align: right;\">\n",
       "      <th></th>\n",
       "      <th>10%</th>\n",
       "      <th>20%</th>\n",
       "      <th>20%.1</th>\n",
       "      <th>thi</th>\n",
       "    </tr>\n",
       "  </thead>\n",
       "  <tbody>\n",
       "    <tr>\n",
       "      <th>10%</th>\n",
       "      <td>1.000000</td>\n",
       "      <td>0.591100</td>\n",
       "      <td>0.624201</td>\n",
       "      <td>0.595732</td>\n",
       "    </tr>\n",
       "    <tr>\n",
       "      <th>20%</th>\n",
       "      <td>0.591100</td>\n",
       "      <td>1.000000</td>\n",
       "      <td>0.792902</td>\n",
       "      <td>0.783534</td>\n",
       "    </tr>\n",
       "    <tr>\n",
       "      <th>20%.1</th>\n",
       "      <td>0.624201</td>\n",
       "      <td>0.792902</td>\n",
       "      <td>1.000000</td>\n",
       "      <td>0.921541</td>\n",
       "    </tr>\n",
       "    <tr>\n",
       "      <th>thi</th>\n",
       "      <td>0.595732</td>\n",
       "      <td>0.783534</td>\n",
       "      <td>0.921541</td>\n",
       "      <td>1.000000</td>\n",
       "    </tr>\n",
       "  </tbody>\n",
       "</table>\n",
       "</div>"
      ],
      "text/plain": [
       "            10%       20%     20%.1       thi\n",
       "10%    1.000000  0.591100  0.624201  0.595732\n",
       "20%    0.591100  1.000000  0.792902  0.783534\n",
       "20%.1  0.624201  0.792902  1.000000  0.921541\n",
       "thi    0.595732  0.783534  0.921541  1.000000"
      ]
     },
     "execution_count": 19,
     "metadata": {},
     "output_type": "execute_result"
    }
   ],
   "source": [
    "corr = df_scaled.corr()\n",
    "corr"
   ]
  },
  {
   "cell_type": "code",
   "execution_count": 20,
   "id": "d2634b9d",
   "metadata": {},
   "outputs": [
    {
     "data": {
      "text/plain": [
       "<AxesSubplot:>"
      ]
     },
     "execution_count": 20,
     "metadata": {},
     "output_type": "execute_result"
    },
    {
     "data": {
      "image/png": "[encoded data removed]",
      "text/plain": [
       "<Figure size 640x480 with 2 Axes>"
      ]
     },
     "metadata": {},
     "output_type": "display_data"
    }
   ],
   "source": [
    "sns.heatmap(corr, cmap=\"YlGnBu\", annot=True)"
   ]
  },
  {
   "cell_type": "markdown",
   "id": "20ff6b00",
   "metadata": {},
   "source": [
    "## Trực quan hóa dữ liệu"
   ]
  },
  {
   "cell_type": "markdown",
   "id": "e83d565a",
   "metadata": {},
   "source": [
    "#### Tương quan giữa điểm 10% và điểm thi"
   ]
  },
  {
   "cell_type": "code",
   "execution_count": 21,
   "id": "3db152b2",
   "metadata": {},
   "outputs": [
    {
     "data": {
      "text/plain": [
       "Text(0, 0.5, 'thi')"
      ]
     },
     "execution_count": 21,
     "metadata": {},
     "output_type": "execute_result"
    },
    {
     "data": {
      "image/png": "[encoded data removed]",
      "text/plain": [
       "<Figure size 640x480 with 1 Axes>"
      ]
     },
     "metadata": {},
     "output_type": "display_data"
    }
   ],
   "source": [
    "plt.scatter(df_scaled[\"10%\"], df_scaled[\"thi\"])\n",
    "plt.title(\"Tương quan giữa điểm 10% và điểm thi\")\n",
    "plt.xlabel(\"10%\")\n",
    "plt.ylabel(\"thi\")"
   ]
  },
  {
   "cell_type": "markdown",
   "id": "7d11f9cf",
   "metadata": {},
   "source": [
    "#### Tương quan giữa điểm 20% và điểm thi"
   ]
  },
  {
   "cell_type": "code",
   "execution_count": 22,
   "id": "082ea5b7",
   "metadata": {},
   "outputs": [
    {
     "data": {
      "text/plain": [
       "Text(0, 0.5, 'thi')"
      ]
     },
     "execution_count": 22,
     "metadata": {},
     "output_type": "execute_result"
    },
    {
     "data": {
      "image/png": "[encoded data removed]",
      "text/plain": [
       "<Figure size 640x480 with 1 Axes>"
      ]
     },
     "metadata": {},
     "output_type": "display_data"
    }
   ],
   "source": [
    "plt.scatter(df_scaled[\"20%\"], df_scaled[\"thi\"])\n",
    "plt.title(\"Tương quan giữa điểm 20% và điểm thi\")\n",
    "plt.xlabel(\"20%\")\n",
    "plt.ylabel(\"thi\")"
   ]
  },
  {
   "cell_type": "markdown",
   "id": "dbb94347",
   "metadata": {},
   "source": [
    "#### Tương quan giữa điểm 20%.1 và điểm thi"
   ]
  },
  {
   "cell_type": "code",
   "execution_count": 23,
   "id": "8f063b40",
   "metadata": {},
   "outputs": [
    {
     "data": {
      "text/plain": [
       "Text(0, 0.5, 'thi')"
      ]
     },
     "execution_count": 23,
     "metadata": {},
     "output_type": "execute_result"
    },
    {
     "data": {
      "image/png": "[encoded data removed]",
      "text/plain": [
       "<Figure size 640x480 with 1 Axes>"
      ]
     },
     "metadata": {},
     "output_type": "display_data"
    }
   ],
   "source": [
    "plt.scatter(df_scaled[\"20%.1\"], df_scaled[\"thi\"])\n",
    "plt.title(\"Tương quan giữa điểm 20%.1 và điểm thi\")\n",
    "plt.xlabel(\"20%.1\")\n",
    "plt.ylabel(\"thi\")"
   ]
  },
  {
   "cell_type": "markdown",
   "id": "a578d424",
   "metadata": {},
   "source": [
    "##### Từ đó thấy được, điểm thành phần cao -> điểm thi cao (tuyến tính)"
   ]
  },
  {
   "cell_type": "markdown",
   "id": "ae50aec2",
   "metadata": {},
   "source": [
    "### Xem phân phối điểm thi"
   ]
  },
  {
   "cell_type": "code",
   "execution_count": 24,
   "id": "d800513f",
   "metadata": {},
   "outputs": [
    {
     "data": {
      "text/plain": [
       "<AxesSubplot:>"
      ]
     },
     "execution_count": 24,
     "metadata": {},
     "output_type": "execute_result"
    },
    {
     "data": {
      "image/png": "[encoded data removed]",
      "text/plain": [
       "<Figure size 640x480 with 1 Axes>"
      ]
     },
     "metadata": {},
     "output_type": "display_data"
    }
   ],
   "source": [
    "df_scaled[\"thi\"].hist()"
   ]
  },
  {
   "cell_type": "markdown",
   "id": "e245b3a7",
   "metadata": {},
   "source": [
    "## Chia tập dữ liệu thành các tập train, test"
   ]
  },
  {
   "cell_type": "code",
   "execution_count": 25,
   "id": "7cfe09a3",
   "metadata": {},
   "outputs": [],
   "source": [
    "X = df_scaled.drop(\"thi\", axis=1) # Vì cột họ tên không cần thiết đưa vào để train model\n",
    "y = df_scaled[\"thi\"]"
   ]
  },
  {
   "cell_type": "code",
   "execution_count": 26,
   "id": "f276051b",
   "metadata": {},
   "outputs": [
    {
     "name": "stdout",
     "output_type": "stream",
     "text": [
      "Shape of X_train: (234, 3)\n",
      "Shape of X_test: (59, 3)\n",
      "Shape of y_train: (234,)\n",
      "Shape of y_test: (59,)\n"
     ]
    }
   ],
   "source": [
    "np.random.seed(3005)\n",
    "# Create train and test dataset with an 80:20 split+\n",
    "X_train, X_test, y_train, y_test = train_test_split(X, y, test_size=0.2, random_state=3005)\n",
    "\n",
    "#Check the shape of each new dataset created\n",
    "print(\"Shape of X_train:\", X_train.shape)\n",
    "print(\"Shape of X_test:\", X_test.shape)\n",
    "print(\"Shape of y_train:\", y_train.shape)\n",
    "print(\"Shape of y_test:\", y_test.shape)"
   ]
  },
  {
   "cell_type": "markdown",
   "id": "70d5609a",
   "metadata": {},
   "source": [
    "## Tiến hành xây dựng mô hình: Ridge Regresion"
   ]
  },
  {
   "cell_type": "code",
   "execution_count": 27,
   "id": "87485804",
   "metadata": {},
   "outputs": [
    {
     "data": {
      "text/plain": [
       "Ridge()"
      ]
     },
     "execution_count": 27,
     "metadata": {},
     "output_type": "execute_result"
    }
   ],
   "source": [
    "model = Ridge()\n",
    "\n",
    "model.fit(X_train, y_train)"
   ]
  },
  {
   "cell_type": "code",
   "execution_count": 28,
   "id": "5c7d2ee4",
   "metadata": {
    "scrolled": true
   },
   "outputs": [
    {
     "data": {
      "text/html": [
       "<div>\n",
       "<style scoped>\n",
       "    .dataframe tbody tr th:only-of-type {\n",
       "        vertical-align: middle;\n",
       "    }\n",
       "\n",
       "    .dataframe tbody tr th {\n",
       "        vertical-align: top;\n",
       "    }\n",
       "\n",
       "    .dataframe thead th {\n",
       "        text-align: right;\n",
       "    }\n",
       "</style>\n",
       "<table border=\"1\" class=\"dataframe\">\n",
       "  <thead>\n",
       "    <tr style=\"text-align: right;\">\n",
       "      <th></th>\n",
       "      <th>10%</th>\n",
       "      <th>20%</th>\n",
       "      <th>20%.1</th>\n",
       "      <th>Predict value</th>\n",
       "      <th>Actual value</th>\n",
       "    </tr>\n",
       "  </thead>\n",
       "  <tbody>\n",
       "    <tr>\n",
       "      <th>272</th>\n",
       "      <td>0.375</td>\n",
       "      <td>0.385714</td>\n",
       "      <td>0.684211</td>\n",
       "      <td>0.557285</td>\n",
       "      <td>0.6</td>\n",
       "    </tr>\n",
       "    <tr>\n",
       "      <th>147</th>\n",
       "      <td>0.725</td>\n",
       "      <td>0.628571</td>\n",
       "      <td>0.736842</td>\n",
       "      <td>0.659681</td>\n",
       "      <td>0.6</td>\n",
       "    </tr>\n",
       "    <tr>\n",
       "      <th>194</th>\n",
       "      <td>0.800</td>\n",
       "      <td>0.742857</td>\n",
       "      <td>0.789474</td>\n",
       "      <td>0.718070</td>\n",
       "      <td>0.7</td>\n",
       "    </tr>\n",
       "    <tr>\n",
       "      <th>98</th>\n",
       "      <td>0.650</td>\n",
       "      <td>0.685714</td>\n",
       "      <td>0.736842</td>\n",
       "      <td>0.667600</td>\n",
       "      <td>0.7</td>\n",
       "    </tr>\n",
       "    <tr>\n",
       "      <th>218</th>\n",
       "      <td>0.575</td>\n",
       "      <td>0.771429</td>\n",
       "      <td>0.763158</td>\n",
       "      <td>0.696327</td>\n",
       "      <td>0.7</td>\n",
       "    </tr>\n",
       "  </tbody>\n",
       "</table>\n",
       "</div>"
      ],
      "text/plain": [
       "       10%       20%     20%.1  Predict value  Actual value\n",
       "272  0.375  0.385714  0.684211       0.557285           0.6\n",
       "147  0.725  0.628571  0.736842       0.659681           0.6\n",
       "194  0.800  0.742857  0.789474       0.718070           0.7\n",
       "98   0.650  0.685714  0.736842       0.667600           0.7\n",
       "218  0.575  0.771429  0.763158       0.696327           0.7"
      ]
     },
     "execution_count": 28,
     "metadata": {},
     "output_type": "execute_result"
    }
   ],
   "source": [
    "y_pred = model.predict(X_test)\n",
    "result = X_test.copy()\n",
    "result[\"Predict value\"] = y_pred\n",
    "result[\"Actual value\"] = y_test\n",
    "result.head()"
   ]
  },
  {
   "cell_type": "code",
   "execution_count": 29,
   "id": "76d4538e",
   "metadata": {},
   "outputs": [
    {
     "data": {
      "text/plain": [
       "0.050183740048870544"
      ]
     },
     "execution_count": 29,
     "metadata": {},
     "output_type": "execute_result"
    }
   ],
   "source": [
    "from sklearn.metrics import mean_absolute_error\n",
    "mean_absolute_error(y_test, y_pred)"
   ]
  },
  {
   "cell_type": "markdown",
   "id": "313f37d5",
   "metadata": {},
   "source": [
    "## Tiến hành xây dựng mô hình: Linear Regresion"
   ]
  },
  {
   "cell_type": "code",
   "execution_count": 30,
   "id": "3c82554e",
   "metadata": {},
   "outputs": [
    {
     "data": {
      "text/plain": [
       "LinearRegression()"
      ]
     },
     "execution_count": 30,
     "metadata": {},
     "output_type": "execute_result"
    }
   ],
   "source": [
    "model = LinearRegression()\n",
    "\n",
    "model.fit(X_train, y_train)"
   ]
  },
  {
   "cell_type": "code",
   "execution_count": 31,
   "id": "08ccf85f",
   "metadata": {
    "scrolled": true
   },
   "outputs": [
    {
     "data": {
      "text/html": [
       "<div>\n",
       "<style scoped>\n",
       "    .dataframe tbody tr th:only-of-type {\n",
       "        vertical-align: middle;\n",
       "    }\n",
       "\n",
       "    .dataframe tbody tr th {\n",
       "        vertical-align: top;\n",
       "    }\n",
       "\n",
       "    .dataframe thead th {\n",
       "        text-align: right;\n",
       "    }\n",
       "</style>\n",
       "<table border=\"1\" class=\"dataframe\">\n",
       "  <thead>\n",
       "    <tr style=\"text-align: right;\">\n",
       "      <th></th>\n",
       "      <th>10%</th>\n",
       "      <th>20%</th>\n",
       "      <th>20%.1</th>\n",
       "      <th>Predict value</th>\n",
       "      <th>Actual value</th>\n",
       "    </tr>\n",
       "  </thead>\n",
       "  <tbody>\n",
       "    <tr>\n",
       "      <th>272</th>\n",
       "      <td>0.375</td>\n",
       "      <td>0.385714</td>\n",
       "      <td>0.684211</td>\n",
       "      <td>0.612081</td>\n",
       "      <td>0.6</td>\n",
       "    </tr>\n",
       "    <tr>\n",
       "      <th>147</th>\n",
       "      <td>0.725</td>\n",
       "      <td>0.628571</td>\n",
       "      <td>0.736842</td>\n",
       "      <td>0.679494</td>\n",
       "      <td>0.6</td>\n",
       "    </tr>\n",
       "    <tr>\n",
       "      <th>194</th>\n",
       "      <td>0.800</td>\n",
       "      <td>0.742857</td>\n",
       "      <td>0.789474</td>\n",
       "      <td>0.734105</td>\n",
       "      <td>0.7</td>\n",
       "    </tr>\n",
       "    <tr>\n",
       "      <th>98</th>\n",
       "      <td>0.650</td>\n",
       "      <td>0.685714</td>\n",
       "      <td>0.736842</td>\n",
       "      <td>0.685087</td>\n",
       "      <td>0.7</td>\n",
       "    </tr>\n",
       "    <tr>\n",
       "      <th>218</th>\n",
       "      <td>0.575</td>\n",
       "      <td>0.771429</td>\n",
       "      <td>0.763158</td>\n",
       "      <td>0.715153</td>\n",
       "      <td>0.7</td>\n",
       "    </tr>\n",
       "  </tbody>\n",
       "</table>\n",
       "</div>"
      ],
      "text/plain": [
       "       10%       20%     20%.1  Predict value  Actual value\n",
       "272  0.375  0.385714  0.684211       0.612081           0.6\n",
       "147  0.725  0.628571  0.736842       0.679494           0.6\n",
       "194  0.800  0.742857  0.789474       0.734105           0.7\n",
       "98   0.650  0.685714  0.736842       0.685087           0.7\n",
       "218  0.575  0.771429  0.763158       0.715153           0.7"
      ]
     },
     "execution_count": 31,
     "metadata": {},
     "output_type": "execute_result"
    }
   ],
   "source": [
    "y_pred = model.predict(X_test)\n",
    "result = X_test.copy()\n",
    "result[\"Predict value\"] = y_pred\n",
    "result[\"Actual value\"] = y_test\n",
    "result.head()"
   ]
  },
  {
   "cell_type": "code",
   "execution_count": 32,
   "id": "e5a8adc0",
   "metadata": {},
   "outputs": [
    {
     "data": {
      "text/plain": [
       "0.04561879635448745"
      ]
     },
     "execution_count": 32,
     "metadata": {},
     "output_type": "execute_result"
    }
   ],
   "source": [
    "from sklearn.metrics import mean_absolute_error\n",
    "mean_absolute_error(y_test, y_pred)"
   ]
  },
  {
   "cell_type": "markdown",
   "id": "5d798a2c",
   "metadata": {},
   "source": [
    "## Tiến hành dự đoán trên input đưa vào"
   ]
  },
  {
   "cell_type": "code",
   "execution_count": 33,
   "id": "b9c42f38",
   "metadata": {
    "scrolled": true
   },
   "outputs": [
    {
     "data": {
      "text/plain": [
       "(array([[0.8, 1.4000000000000001, 1.5, None]], dtype=object), (1, 4))"
      ]
     },
     "execution_count": 33,
     "metadata": {},
     "output_type": "execute_result"
    }
   ],
   "source": [
    "diem = np.array([8, 7, 7.5, None])\n",
    "diem[0] = diem[0] * 0.1\n",
    "diem[1] = diem[1] * 0.2\n",
    "diem[2] = diem[2] * 0.2\n",
    "diem = diem.reshape(1,4)\n",
    "diem, diem.shape"
   ]
  },
  {
   "cell_type": "code",
   "execution_count": 34,
   "id": "f2347a94",
   "metadata": {},
   "outputs": [
    {
     "name": "stderr",
     "output_type": "stream",
     "text": [
      "C:\\Users\\Huypx\\anaconda3\\lib\\site-packages\\sklearn\\base.py:450: UserWarning: X does not have valid feature names, but MinMaxScaler was fitted with feature names\n",
      "  warnings.warn(\n"
     ]
    },
    {
     "data": {
      "text/plain": [
       "array([[0.8       , 0.8       , 0.78947368,        nan]])"
      ]
     },
     "execution_count": 34,
     "metadata": {},
     "output_type": "execute_result"
    }
   ],
   "source": [
    "scaler.fit(df)\n",
    "diem_scaled = scaler.transform(diem)\n",
    "diem_scaled"
   ]
  },
  {
   "cell_type": "code",
   "execution_count": 35,
   "id": "1c626283",
   "metadata": {},
   "outputs": [
    {
     "name": "stderr",
     "output_type": "stream",
     "text": [
      "C:\\Users\\Huypx\\anaconda3\\lib\\site-packages\\sklearn\\base.py:450: UserWarning: X does not have valid feature names, but LinearRegression was fitted with feature names\n",
      "  warnings.warn(\n"
     ]
    },
    {
     "data": {
      "text/plain": [
       "array([[0.8       , 0.8       , 0.78947368, 0.73973487]])"
      ]
     },
     "execution_count": 35,
     "metadata": {},
     "output_type": "execute_result"
    }
   ],
   "source": [
    "diem_scaled[0, 3] = model.predict(diem_scaled[:,:3])[0]\n",
    "diem_scaled"
   ]
  },
  {
   "cell_type": "code",
   "execution_count": 36,
   "id": "e176481f",
   "metadata": {
    "scrolled": true
   },
   "outputs": [
    {
     "data": {
      "text/plain": [
       "array([[0.8       , 1.4       , 1.5       , 3.69867433]])"
      ]
     },
     "execution_count": 36,
     "metadata": {},
     "output_type": "execute_result"
    }
   ],
   "source": [
    "diem = scaler.inverse_transform(diem_scaled)\n",
    "diem"
   ]
  },
  {
   "cell_type": "code",
   "execution_count": 37,
   "id": "369a476a",
   "metadata": {},
   "outputs": [
    {
     "data": {
      "text/plain": [
       "array([[8.        , 7.        , 7.5       , 7.39734866]])"
      ]
     },
     "execution_count": 37,
     "metadata": {},
     "output_type": "execute_result"
    }
   ],
   "source": [
    "diem[0, 0] = diem[0, 0] / 0.1\n",
    "diem[0, 1] = diem[0, 1] / 0.2\n",
    "diem[0, 2] = diem[0, 2] / 0.2\n",
    "diem[0, 3] = diem[0, 3] / 0.5\n",
    "\n",
    "diem"
   ]
  },
  {
   "cell_type": "code",
   "execution_count": null,
   "id": "ddd4b86d",
   "metadata": {},
   "outputs": [],
   "source": []
  }
 ],
 "metadata": {
  "kernelspec": {
   "display_name": "Python 3 (ipykernel)",
   "language": "python",
   "name": "python3"
  },
  "language_info": {
   "codemirror_mode": {
    "name": "ipython",
    "version": 3
   },
   "file_extension": ".py",
   "mimetype": "text/x-python",
   "name": "python",
   "nbconvert_exporter": "python",
   "pygments_lexer": "ipython3",
   "version": "3.9.13"
  }
 },
 "nbformat": 4,
 "nbformat_minor": 5
}
